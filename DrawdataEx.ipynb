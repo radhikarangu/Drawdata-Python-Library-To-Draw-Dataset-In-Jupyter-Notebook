{
 "cells": [
  {
   "cell_type": "code",
   "execution_count": 1,
   "metadata": {},
   "outputs": [
    {
     "name": "stdout",
     "output_type": "stream",
     "text": [
      "Collecting drawdata\n",
      "  Downloading https://files.pythonhosted.org/packages/f7/e6/538faee79cccf5449474a68f930da9ff4e8d8e444fc198b45e138562b5b3/drawdata-0.2.0-py2.py3-none-any.whl\n",
      "Collecting ipython>=7.16.1 (from drawdata)\n",
      "  Downloading https://files.pythonhosted.org/packages/c9/b1/82cbe2b856386f44f37fdae54d9b425813bd86fe33385c9d658d64826098/ipython-7.22.0-py3-none-any.whl (785kB)\n",
      "Requirement already satisfied: jupyter>=1.0.0 in c:\\users\\radhika\\anaconda3\\lib\\site-packages (from drawdata) (1.0.0)\n",
      "Requirement already satisfied: traitlets>=4.2 in c:\\users\\radhika\\anaconda3\\lib\\site-packages (from ipython>=7.16.1->drawdata) (4.3.3)\n",
      "Requirement already satisfied: pygments in c:\\users\\radhika\\anaconda3\\lib\\site-packages (from ipython>=7.16.1->drawdata) (2.4.2)\n",
      "Collecting jedi>=0.16 (from ipython>=7.16.1->drawdata)\n",
      "  Downloading https://files.pythonhosted.org/packages/f9/36/7aa67ae2663025b49e8426ead0bad983fee1b73f472536e9790655da0277/jedi-0.18.0-py2.py3-none-any.whl (1.4MB)\n",
      "Requirement already satisfied: colorama; sys_platform == \"win32\" in c:\\users\\radhika\\anaconda3\\lib\\site-packages (from ipython>=7.16.1->drawdata) (0.4.1)\n",
      "Requirement already satisfied: prompt-toolkit!=3.0.0,!=3.0.1,<3.1.0,>=2.0.0 in c:\\users\\radhika\\anaconda3\\lib\\site-packages (from ipython>=7.16.1->drawdata) (2.0.10)\n",
      "Requirement already satisfied: pickleshare in c:\\users\\radhika\\anaconda3\\lib\\site-packages (from ipython>=7.16.1->drawdata) (0.7.5)\n",
      "Requirement already satisfied: backcall in c:\\users\\radhika\\anaconda3\\lib\\site-packages (from ipython>=7.16.1->drawdata) (0.1.0)\n",
      "Requirement already satisfied: setuptools>=18.5 in c:\\users\\radhika\\anaconda3\\lib\\site-packages (from ipython>=7.16.1->drawdata) (41.4.0)\n",
      "Requirement already satisfied: decorator in c:\\users\\radhika\\anaconda3\\lib\\site-packages (from ipython>=7.16.1->drawdata) (4.4.0)\n",
      "Requirement already satisfied: ipywidgets in c:\\users\\radhika\\anaconda3\\lib\\site-packages (from jupyter>=1.0.0->drawdata) (7.5.1)\n",
      "Requirement already satisfied: ipykernel in c:\\users\\radhika\\anaconda3\\lib\\site-packages (from jupyter>=1.0.0->drawdata) (5.1.2)\n",
      "Requirement already satisfied: notebook in c:\\users\\radhika\\anaconda3\\lib\\site-packages (from jupyter>=1.0.0->drawdata) (6.0.1)\n",
      "Requirement already satisfied: nbconvert in c:\\users\\radhika\\anaconda3\\lib\\site-packages (from jupyter>=1.0.0->drawdata) (5.6.0)\n",
      "Requirement already satisfied: qtconsole in c:\\users\\radhika\\anaconda3\\lib\\site-packages (from jupyter>=1.0.0->drawdata) (4.5.5)\n",
      "Requirement already satisfied: jupyter-console in c:\\users\\radhika\\anaconda3\\lib\\site-packages (from jupyter>=1.0.0->drawdata) (6.0.0)\n",
      "Requirement already satisfied: six in c:\\users\\radhika\\anaconda3\\lib\\site-packages (from traitlets>=4.2->ipython>=7.16.1->drawdata) (1.12.0)\n",
      "Requirement already satisfied: ipython-genutils in c:\\users\\radhika\\anaconda3\\lib\\site-packages (from traitlets>=4.2->ipython>=7.16.1->drawdata) (0.2.0)\n",
      "Collecting parso<0.9.0,>=0.8.0 (from jedi>=0.16->ipython>=7.16.1->drawdata)\n",
      "  Downloading https://files.pythonhosted.org/packages/a9/c4/d5476373088c120ffed82f34c74b266ccae31a68d665b837354d4d8dc8be/parso-0.8.2-py2.py3-none-any.whl (94kB)\n",
      "Requirement already satisfied: wcwidth in c:\\users\\radhika\\anaconda3\\lib\\site-packages (from prompt-toolkit!=3.0.0,!=3.0.1,<3.1.0,>=2.0.0->ipython>=7.16.1->drawdata) (0.1.7)\n",
      "Requirement already satisfied: widgetsnbextension~=3.5.0 in c:\\users\\radhika\\anaconda3\\lib\\site-packages (from ipywidgets->jupyter>=1.0.0->drawdata) (3.5.1)\n",
      "Requirement already satisfied: nbformat>=4.2.0 in c:\\users\\radhika\\anaconda3\\lib\\site-packages (from ipywidgets->jupyter>=1.0.0->drawdata) (4.4.0)\n",
      "Requirement already satisfied: tornado>=4.2 in c:\\users\\radhika\\anaconda3\\lib\\site-packages (from ipykernel->jupyter>=1.0.0->drawdata) (6.0.3)\n",
      "Requirement already satisfied: jupyter-client in c:\\users\\radhika\\anaconda3\\lib\\site-packages (from ipykernel->jupyter>=1.0.0->drawdata) (5.3.3)\n",
      "Requirement already satisfied: jupyter-core>=4.4.0 in c:\\users\\radhika\\anaconda3\\lib\\site-packages (from notebook->jupyter>=1.0.0->drawdata) (4.5.0)\n",
      "Requirement already satisfied: pyzmq>=17 in c:\\users\\radhika\\anaconda3\\lib\\site-packages (from notebook->jupyter>=1.0.0->drawdata) (18.1.0)\n",
      "Requirement already satisfied: prometheus-client in c:\\users\\radhika\\anaconda3\\lib\\site-packages (from notebook->jupyter>=1.0.0->drawdata) (0.7.1)\n",
      "Requirement already satisfied: terminado>=0.8.1 in c:\\users\\radhika\\anaconda3\\lib\\site-packages (from notebook->jupyter>=1.0.0->drawdata) (0.8.2)\n",
      "Requirement already satisfied: jinja2 in c:\\users\\radhika\\anaconda3\\lib\\site-packages (from notebook->jupyter>=1.0.0->drawdata) (2.10.3)\n",
      "Requirement already satisfied: Send2Trash in c:\\users\\radhika\\anaconda3\\lib\\site-packages (from notebook->jupyter>=1.0.0->drawdata) (1.5.0)\n",
      "Requirement already satisfied: pandocfilters>=1.4.1 in c:\\users\\radhika\\anaconda3\\lib\\site-packages (from nbconvert->jupyter>=1.0.0->drawdata) (1.4.2)\n",
      "Requirement already satisfied: entrypoints>=0.2.2 in c:\\users\\radhika\\anaconda3\\lib\\site-packages (from nbconvert->jupyter>=1.0.0->drawdata) (0.3)\n",
      "Requirement already satisfied: defusedxml in c:\\users\\radhika\\anaconda3\\lib\\site-packages (from nbconvert->jupyter>=1.0.0->drawdata) (0.6.0)\n",
      "Requirement already satisfied: mistune<2,>=0.8.1 in c:\\users\\radhika\\anaconda3\\lib\\site-packages (from nbconvert->jupyter>=1.0.0->drawdata) (0.8.4)\n",
      "Requirement already satisfied: bleach in c:\\users\\radhika\\anaconda3\\lib\\site-packages (from nbconvert->jupyter>=1.0.0->drawdata) (3.1.0)\n",
      "Requirement already satisfied: testpath in c:\\users\\radhika\\anaconda3\\lib\\site-packages (from nbconvert->jupyter>=1.0.0->drawdata) (0.4.2)\n",
      "Requirement already satisfied: jsonschema!=2.5.0,>=2.4 in c:\\users\\radhika\\anaconda3\\lib\\site-packages (from nbformat>=4.2.0->ipywidgets->jupyter>=1.0.0->drawdata) (3.0.2)\n",
      "Requirement already satisfied: python-dateutil>=2.1 in c:\\users\\radhika\\anaconda3\\lib\\site-packages (from jupyter-client->ipykernel->jupyter>=1.0.0->drawdata) (2.8.1)\n",
      "Requirement already satisfied: pywin32>=1.0; sys_platform == \"win32\" in c:\\users\\radhika\\anaconda3\\lib\\site-packages (from jupyter-client->ipykernel->jupyter>=1.0.0->drawdata) (223)\n",
      "Requirement already satisfied: MarkupSafe>=0.23 in c:\\users\\radhika\\anaconda3\\lib\\site-packages (from jinja2->notebook->jupyter>=1.0.0->drawdata) (1.1.1)\n",
      "Requirement already satisfied: webencodings in c:\\users\\radhika\\anaconda3\\lib\\site-packages (from bleach->nbconvert->jupyter>=1.0.0->drawdata) (0.5.1)\n",
      "Requirement already satisfied: attrs>=17.4.0 in c:\\users\\radhika\\anaconda3\\lib\\site-packages (from jsonschema!=2.5.0,>=2.4->nbformat>=4.2.0->ipywidgets->jupyter>=1.0.0->drawdata) (19.2.0)\n",
      "Requirement already satisfied: pyrsistent>=0.14.0 in c:\\users\\radhika\\anaconda3\\lib\\site-packages (from jsonschema!=2.5.0,>=2.4->nbformat>=4.2.0->ipywidgets->jupyter>=1.0.0->drawdata) (0.15.4)\n",
      "Installing collected packages: parso, jedi, ipython, drawdata\n",
      "  Found existing installation: parso 0.5.1\n",
      "    Uninstalling parso-0.5.1:\n",
      "      Successfully uninstalled parso-0.5.1\n",
      "  Found existing installation: jedi 0.15.1\n",
      "    Uninstalling jedi-0.15.1:\n",
      "      Successfully uninstalled jedi-0.15.1\n",
      "  Found existing installation: ipython 7.8.0\n",
      "    Uninstalling ipython-7.8.0:\n",
      "      Successfully uninstalled ipython-7.8.0\n",
      "Successfully installed drawdata-0.2.0 ipython-7.22.0 jedi-0.18.0 parso-0.8.2\n"
     ]
    },
    {
     "name": "stderr",
     "output_type": "stream",
     "text": [
      "ERROR: spyder 3.3.6 requires pyqt5<5.13; python_version >= \"3\", which is not installed.\n",
      "ERROR: spyder 3.3.6 requires pyqtwebengine<5.13; python_version >= \"3\", which is not installed.\n"
     ]
    }
   ],
   "source": [
    "!pip install drawdata\n"
   ]
  },
  {
   "cell_type": "code",
   "execution_count": 2,
   "metadata": {},
   "outputs": [
    {
     "data": {
      "text/html": [
       "\n",
       "        <iframe\n",
       "            width=\"800\"\n",
       "            height=\"550\"\n",
       "            src=\"https://drawdata.xyz/scatter.html\"\n",
       "            frameborder=\"0\"\n",
       "            allowfullscreen\n",
       "        ></iframe>\n",
       "        "
      ],
      "text/plain": [
       "<IPython.lib.display.IFrame at 0x148110a56c8>"
      ]
     },
     "execution_count": 2,
     "metadata": {},
     "output_type": "execute_result"
    }
   ],
   "source": [
    "from drawdata import draw_scatter\n",
    "\n",
    "draw_scatter()"
   ]
  },
  {
   "cell_type": "code",
   "execution_count": 5,
   "metadata": {},
   "outputs": [
    {
     "data": {
      "text/html": [
       "<div>\n",
       "<style scoped>\n",
       "    .dataframe tbody tr th:only-of-type {\n",
       "        vertical-align: middle;\n",
       "    }\n",
       "\n",
       "    .dataframe tbody tr th {\n",
       "        vertical-align: top;\n",
       "    }\n",
       "\n",
       "    .dataframe thead th {\n",
       "        text-align: right;\n",
       "    }\n",
       "</style>\n",
       "<table border=\"1\" class=\"dataframe\">\n",
       "  <thead>\n",
       "    <tr style=\"text-align: right;\">\n",
       "      <th></th>\n",
       "      <th>x</th>\n",
       "      <th>y</th>\n",
       "      <th>z</th>\n",
       "    </tr>\n",
       "  </thead>\n",
       "  <tbody>\n",
       "    <tr>\n",
       "      <td>0</td>\n",
       "      <td>441.686337</td>\n",
       "      <td>446.257208</td>\n",
       "      <td>a</td>\n",
       "    </tr>\n",
       "    <tr>\n",
       "      <td>1</td>\n",
       "      <td>401.534774</td>\n",
       "      <td>476.352673</td>\n",
       "      <td>a</td>\n",
       "    </tr>\n",
       "    <tr>\n",
       "      <td>2</td>\n",
       "      <td>376.402782</td>\n",
       "      <td>507.608261</td>\n",
       "      <td>a</td>\n",
       "    </tr>\n",
       "    <tr>\n",
       "      <td>3</td>\n",
       "      <td>425.971494</td>\n",
       "      <td>453.150594</td>\n",
       "      <td>a</td>\n",
       "    </tr>\n",
       "    <tr>\n",
       "      <td>4</td>\n",
       "      <td>408.227468</td>\n",
       "      <td>472.528227</td>\n",
       "      <td>a</td>\n",
       "    </tr>\n",
       "    <tr>\n",
       "      <td>...</td>\n",
       "      <td>...</td>\n",
       "      <td>...</td>\n",
       "      <td>...</td>\n",
       "    </tr>\n",
       "    <tr>\n",
       "      <td>246</td>\n",
       "      <td>317.948517</td>\n",
       "      <td>326.526415</td>\n",
       "      <td>c</td>\n",
       "    </tr>\n",
       "    <tr>\n",
       "      <td>247</td>\n",
       "      <td>336.938825</td>\n",
       "      <td>356.605918</td>\n",
       "      <td>c</td>\n",
       "    </tr>\n",
       "    <tr>\n",
       "      <td>248</td>\n",
       "      <td>362.978748</td>\n",
       "      <td>294.411409</td>\n",
       "      <td>c</td>\n",
       "    </tr>\n",
       "    <tr>\n",
       "      <td>249</td>\n",
       "      <td>351.011131</td>\n",
       "      <td>329.646419</td>\n",
       "      <td>c</td>\n",
       "    </tr>\n",
       "    <tr>\n",
       "      <td>250</td>\n",
       "      <td>355.515847</td>\n",
       "      <td>348.443025</td>\n",
       "      <td>c</td>\n",
       "    </tr>\n",
       "  </tbody>\n",
       "</table>\n",
       "<p>251 rows × 3 columns</p>\n",
       "</div>"
      ],
      "text/plain": [
       "              x           y  z\n",
       "0    441.686337  446.257208  a\n",
       "1    401.534774  476.352673  a\n",
       "2    376.402782  507.608261  a\n",
       "3    425.971494  453.150594  a\n",
       "4    408.227468  472.528227  a\n",
       "..          ...         ... ..\n",
       "246  317.948517  326.526415  c\n",
       "247  336.938825  356.605918  c\n",
       "248  362.978748  294.411409  c\n",
       "249  351.011131  329.646419  c\n",
       "250  355.515847  348.443025  c\n",
       "\n",
       "[251 rows x 3 columns]"
      ]
     },
     "execution_count": 5,
     "metadata": {},
     "output_type": "execute_result"
    }
   ],
   "source": [
    "import pandas as pd \n",
    "pd.read_clipboard(sep=\",\")"
   ]
  },
  {
   "cell_type": "code",
   "execution_count": null,
   "metadata": {},
   "outputs": [],
   "source": []
  }
 ],
 "metadata": {
  "kernelspec": {
   "display_name": "Python 3",
   "language": "python",
   "name": "python3"
  },
  "language_info": {
   "codemirror_mode": {
    "name": "ipython",
    "version": 3
   },
   "file_extension": ".py",
   "mimetype": "text/x-python",
   "name": "python",
   "nbconvert_exporter": "python",
   "pygments_lexer": "ipython3",
   "version": "3.7.4"
  }
 },
 "nbformat": 4,
 "nbformat_minor": 2
}
